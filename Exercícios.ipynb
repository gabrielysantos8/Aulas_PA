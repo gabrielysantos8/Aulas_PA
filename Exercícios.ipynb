{
  "nbformat": 4,
  "nbformat_minor": 0,
  "metadata": {
    "colab": {
      "provenance": [],
      "authorship_tag": "ABX9TyMYIbnx3uS9yXoEVbZczHUj",
      "include_colab_link": true
    },
    "kernelspec": {
      "name": "python3",
      "display_name": "Python 3"
    },
    "language_info": {
      "name": "python"
    }
  },
  "cells": [
    {
      "cell_type": "markdown",
      "metadata": {
        "id": "view-in-github",
        "colab_type": "text"
      },
      "source": [
        "<a href=\"https://colab.research.google.com/github/gabrielysantos8/Aulas_PA/blob/main/Exerc%C3%ADcios.ipynb\" target=\"_parent\"><img src=\"https://colab.research.google.com/assets/colab-badge.svg\" alt=\"Open In Colab\"/></a>"
      ]
    },
    {
      "cell_type": "markdown",
      "source": [
        "**exercício** **1**"
      ],
      "metadata": {
        "id": "KBnVjO9llPLI"
      }
    },
    {
      "cell_type": "code",
      "source": [
        "valor = float(input(\"Digite o valor da peça: \"))\n",
        "quantidade = float(input(\"Digite a quantidade de peças: \"))\n",
        "valor_total = valor * quantidade\n",
        "print(\"O valor total é: \",valor_total)"
      ],
      "metadata": {
        "colab": {
          "base_uri": "https://localhost:8080/"
        },
        "id": "9MB1v8YHlgBv",
        "outputId": "95d587e3-4aba-49f8-daef-31402d47d43c"
      },
      "execution_count": null,
      "outputs": [
        {
          "output_type": "stream",
          "name": "stdout",
          "text": [
            "Digite o valor da peça: 20\n",
            "Digite a quantidade de peças: 100\n",
            "O valor total é:  2000.0\n"
          ]
        }
      ]
    },
    {
      "cell_type": "markdown",
      "source": [
        "**exercício 2**"
      ],
      "metadata": {
        "id": "q45c9C5UrDH5"
      }
    },
    {
      "cell_type": "code",
      "source": [
        "qmin = float(input(\"Digite a quantidade miníma: \"))\n",
        "qmax = float(input(\"Digite a quantidade maxíma: \"))\n",
        "estoque_medio = (qmin + qmax) /2\n",
        "print(\"O estoque médio é: \",estoque_medio)"
      ],
      "metadata": {
        "colab": {
          "base_uri": "https://localhost:8080/"
        },
        "id": "FpcXupOyrJjv",
        "outputId": "5613129a-d7f5-4c99-d0fb-77b2b6b20dea"
      },
      "execution_count": null,
      "outputs": [
        {
          "output_type": "stream",
          "name": "stdout",
          "text": [
            "Digite a quantidade miníma: 200\n",
            "Digite a quantidade maxíma: 500\n",
            "O estoque médio é:  350.0\n"
          ]
        }
      ]
    },
    {
      "cell_type": "markdown",
      "source": [
        "exercício **4**"
      ],
      "metadata": {
        "id": "zwFCFdbEe7W2"
      }
    },
    {
      "cell_type": "code",
      "source": [
        "valor_dolar = float(input(\"Digite o valor do dolar: \"))\n",
        "valor_reais = float(input(\"Digite o valor em reais: \"))\n",
        "resposta = valor_reais / valor_dolar\n",
        "print(\"O valor em dolares é: \",resposta)"
      ],
      "metadata": {
        "colab": {
          "base_uri": "https://localhost:8080/"
        },
        "id": "c_UPC0ttA9YL",
        "outputId": "12571850-0b4c-4298-a948-10aedb406eb4"
      },
      "execution_count": null,
      "outputs": [
        {
          "output_type": "stream",
          "name": "stdout",
          "text": [
            "Digite o valor do dolar: 5\n",
            "Digite o valor em reais: 100\n",
            "O valor em dolares é:  20.0\n"
          ]
        }
      ]
    },
    {
      "cell_type": "markdown",
      "source": [
        "**exercício 5**"
      ],
      "metadata": {
        "id": "1RooTS0LfD8O"
      }
    },
    {
      "cell_type": "code",
      "source": [
        "n1 = float(input(\"Digite o primeiro número: \"))\n",
        "n2 = float(input(\"Digite o segundo número: \"))\n",
        "n3 = float(input(\"Digite o terceiro número: \"))\n",
        "n4 = float(input(\"Digite o quarto número: \"))\n",
        "conta = n1 * n1\n",
        "conta2 = n2 * n2\n",
        "conta3 = n3 * n3\n",
        "conta4 = n4 * n4\n",
        "soma = conta + conta2 + conta3 + conta4\n",
        "print(\"Sua resposta é: \",soma)"
      ],
      "metadata": {
        "id": "Xckajc8ibQ4y",
        "colab": {
          "base_uri": "https://localhost:8080/"
        },
        "outputId": "2cfe3658-e3e0-4b9b-a3be-674ba33778c0"
      },
      "execution_count": null,
      "outputs": [
        {
          "output_type": "stream",
          "name": "stdout",
          "text": [
            "Digite o primeiro número: 3\n",
            "Digite o segundo número: 4\n",
            "Digite o terceiro número: 6\n",
            "Digite o quarto número: 8\n",
            "Sua resposta é:  125.0\n"
          ]
        }
      ]
    },
    {
      "cell_type": "markdown",
      "source": [
        "**exercício 6**"
      ],
      "metadata": {
        "id": "j9pTyKU6Dsnh"
      }
    },
    {
      "cell_type": "code",
      "source": [
        "valor = float(input(\"Digite o valor da peça: \"))\n",
        "quantidade = float(input(\"Digite a quantidede de peças vendidas: \"))\n",
        "conta = valor * quantidade\n",
        "conta2 = (conta * 100) / 5\n",
        "print(\"O salário é: \", conta)\n",
        "print(\"A comissão é: \", conta2)"
      ],
      "metadata": {
        "colab": {
          "base_uri": "https://localhost:8080/"
        },
        "id": "Isi_9km3D3A4",
        "outputId": "8384035f-f8de-4aa9-84fa-912f32811819"
      },
      "execution_count": 13,
      "outputs": [
        {
          "output_type": "stream",
          "name": "stdout",
          "text": [
            "Digite o valor da peça: 3\n",
            "Digite a quantidede de peças vendidas: 500\n",
            "O salário é:  1500.0\n",
            "A comissão é:  30000.0\n"
          ]
        }
      ]
    },
    {
      "cell_type": "markdown",
      "source": [
        "# coletando os valores para as variáveis de entrada"
      ],
      "metadata": {
        "id": "QZxDs1VCF1f-"
      }
    },
    {
      "cell_type": "code",
      "source": [
        "distancia = float(input(\"Digite a distância percorrida: \"))\n",
        "qtde_horas = float(input(\"Digite a quantidade de horas gastas: \"))\n",
        "qtde_min = float(input(\"Digite a quantidade de minutos gastos: \"))\n",
        "tempo_total = qtde_horas + (qtde_min/60)\n",
        "velocidade = distancia/tempo_total\n",
        "print(\"A velocidade média foi de: \", round(velocidade,2),\"Km/h\")\n",
        "\n",
        ""
      ],
      "metadata": {
        "colab": {
          "base_uri": "https://localhost:8080/"
        },
        "id": "gixQtMkJFqfk",
        "outputId": "290e233e-6778-490d-de9c-9983f7355681"
      },
      "execution_count": 11,
      "outputs": [
        {
          "output_type": "stream",
          "name": "stdout",
          "text": [
            "Digite a distância percorrida: 150\n",
            "Digite a quantidade de horas gastas: 1\n",
            "Digite a quantidade de minutos gastos: 13\n",
            "A velocidade média foi de:  123.29 Km/h\n"
          ]
        }
      ]
    }
  ]
}