{
  "nbformat": 4,
  "nbformat_minor": 0,
  "metadata": {
    "colab": {
      "provenance": [],
      "authorship_tag": "ABX9TyPzIjrUNSFQaCJ6wA5SDFUN",
      "include_colab_link": true
    },
    "kernelspec": {
      "name": "python3",
      "display_name": "Python 3"
    },
    "language_info": {
      "name": "python"
    }
  },
  "cells": [
    {
      "cell_type": "markdown",
      "metadata": {
        "id": "view-in-github",
        "colab_type": "text"
      },
      "source": [
        "<a href=\"https://colab.research.google.com/github/gabrielysantos8/Aulas_PA/blob/main/Estruturas_de_Repeti%C3%A7%C3%A3o.ipynb\" target=\"_parent\"><img src=\"https://colab.research.google.com/assets/colab-badge.svg\" alt=\"Open In Colab\"/></a>"
      ]
    },
    {
      "cell_type": "code",
      "execution_count": 1,
      "metadata": {
        "colab": {
          "base_uri": "https://localhost:8080/"
        },
        "id": "Pt6_KlR4Y2_q",
        "outputId": "53a6a101-91f5-4343-c02e-3d0c06d48c1b"
      },
      "outputs": [
        {
          "output_type": "stream",
          "name": "stdout",
          "text": [
            "BOM DIA\n",
            "BOM DIA\n",
            "BOM DIA\n",
            "BOM DIA\n",
            "BOM DIA\n",
            "BOM DIA\n",
            "BOM DIA\n",
            "BOM DIA\n",
            "BOM DIA\n",
            "BOM DIA\n"
          ]
        }
      ],
      "source": [
        "# Imprimir na tela a frase \"bom dia\" 10 vezes\n",
        "\n",
        "print(\"BOM DIA\")\n",
        "print(\"BOM DIA\")\n",
        "print(\"BOM DIA\")\n",
        "print(\"BOM DIA\")\n",
        "print(\"BOM DIA\")\n",
        "print(\"BOM DIA\")\n",
        "print(\"BOM DIA\")\n",
        "print(\"BOM DIA\")\n",
        "print(\"BOM DIA\")\n",
        "print(\"BOM DIA\")"
      ]
    },
    {
      "cell_type": "code",
      "source": [
        "# laço de repetição for\n",
        "\n",
        "for i in range(10):\n",
        " #print(i)\n",
        " print(i+1, \" - Bom dia\")"
      ],
      "metadata": {
        "colab": {
          "base_uri": "https://localhost:8080/"
        },
        "id": "I0WH7U-saHxH",
        "outputId": "e441ade9-f30c-4959-f96e-d721a4c80cc1"
      },
      "execution_count": 24,
      "outputs": [
        {
          "output_type": "stream",
          "name": "stdout",
          "text": [
            "1  - Bom dia\n",
            "2  - Bom dia\n",
            "3  - Bom dia\n",
            "4  - Bom dia\n",
            "5  - Bom dia\n",
            "6  - Bom dia\n",
            "7  - Bom dia\n",
            "8  - Bom dia\n",
            "9  - Bom dia\n",
            "10  - Bom dia\n"
          ]
        }
      ]
    },
    {
      "cell_type": "code",
      "source": [
        "# laço de repetição for\n",
        "\n",
        "for i in range(1,11):\n",
        " #print(i)\n",
        " print(i, \" - Bom dia\")"
      ],
      "metadata": {
        "colab": {
          "base_uri": "https://localhost:8080/"
        },
        "id": "-5tyWPhpbX6h",
        "outputId": "31fca17a-cf3d-45e2-c8f0-5bbda335454d"
      },
      "execution_count": 7,
      "outputs": [
        {
          "output_type": "stream",
          "name": "stdout",
          "text": [
            "1  - Bom dia\n",
            "2  - Bom dia\n",
            "3  - Bom dia\n",
            "4  - Bom dia\n",
            "5  - Bom dia\n",
            "6  - Bom dia\n",
            "7  - Bom dia\n",
            "8  - Bom dia\n",
            "9  - Bom dia\n",
            "10  - Bom dia\n"
          ]
        }
      ]
    },
    {
      "cell_type": "code",
      "source": [
        "# mostrar todos os números ímpares de 1 a 30\n",
        "\n",
        "for i in range(1,31):\n",
        "  if i%2 == 1:\n",
        "    print(i)"
      ],
      "metadata": {
        "colab": {
          "base_uri": "https://localhost:8080/"
        },
        "id": "04Da9cCpbgU3",
        "outputId": "18b0886b-7f54-4c4e-cee9-4b292f2fb13e"
      },
      "execution_count": 9,
      "outputs": [
        {
          "output_type": "stream",
          "name": "stdout",
          "text": [
            "1\n",
            "3\n",
            "5\n",
            "7\n",
            "9\n",
            "11\n",
            "13\n",
            "15\n",
            "17\n",
            "19\n",
            "21\n",
            "23\n",
            "25\n",
            "27\n",
            "29\n"
          ]
        }
      ]
    },
    {
      "cell_type": "code",
      "source": [
        "# contador de um número inicial e um número final\n",
        "# digitados pelo usuário\n",
        "\n",
        "inicio = int(input(\"digite o 1 número: \"))\n",
        "fim = int(input(\"digite o 2 número: \"))\n",
        "\n",
        "if inicio>fim:\n",
        "  #aux = inicio\n",
        "  #inicio = fim\n",
        "  #fim = aux\n",
        "\n",
        "  inicio,fim = fim,inicio\n",
        "\n",
        "for x in range(inicio,fim + 1):\n",
        "  print(x)"
      ],
      "metadata": {
        "colab": {
          "base_uri": "https://localhost:8080/"
        },
        "id": "E1AUHfn8fX44",
        "outputId": "bdae61bb-4d6d-468d-9c40-31f8c9b34014"
      },
      "execution_count": 14,
      "outputs": [
        {
          "output_type": "stream",
          "name": "stdout",
          "text": [
            "digite o 1 número: 7\n",
            "digite o 2 número: 2\n",
            "2\n",
            "3\n",
            "4\n",
            "5\n",
            "6\n",
            "7\n"
          ]
        }
      ]
    },
    {
      "cell_type": "code",
      "source": [
        "# some todos os números de 1 a 10\n",
        "soma = 0\n",
        "\n",
        "for a in range(1,11):\n",
        "  soma = soma + a\n",
        "  print(\"acumulado =\",soma)\n",
        "\n",
        "print(\"toatl =\", soma)\n",
        "\n"
      ],
      "metadata": {
        "colab": {
          "base_uri": "https://localhost:8080/"
        },
        "id": "wW694oi5jRth",
        "outputId": "7045ed92-2af3-47e7-e69f-06e3d8e61140"
      },
      "execution_count": 19,
      "outputs": [
        {
          "output_type": "stream",
          "name": "stdout",
          "text": [
            "acumulado = 1\n",
            "acumulado = 3\n",
            "acumulado = 6\n",
            "acumulado = 10\n",
            "acumulado = 15\n",
            "acumulado = 21\n",
            "acumulado = 28\n",
            "acumulado = 36\n",
            "acumulado = 45\n",
            "acumulado = 55\n",
            "toatl = 55\n"
          ]
        }
      ]
    },
    {
      "cell_type": "code",
      "source": [
        "# some todos os números ímpares de 1 a 100\n",
        "\n",
        "soma = 0\n",
        "for i in range(1,101):\n",
        "  if i%2 == 1:\n",
        "    soma = soma + i\n",
        "\n",
        "print(soma)"
      ],
      "metadata": {
        "colab": {
          "base_uri": "https://localhost:8080/"
        },
        "id": "Uhk2vG6elYfK",
        "outputId": "5eb4aeda-b126-4097-d6c2-8357c87383d5"
      },
      "execution_count": 23,
      "outputs": [
        {
          "output_type": "stream",
          "name": "stdout",
          "text": [
            "2500\n"
          ]
        }
      ]
    },
    {
      "cell_type": "code",
      "source": [
        "# contador de 1 a 10 com while\n",
        "\n",
        "num = 1\n",
        "while (num<=10):\n",
        "  print(num)\n",
        "  #num = num + 1\n",
        "  num += 1"
      ],
      "metadata": {
        "colab": {
          "base_uri": "https://localhost:8080/"
        },
        "id": "57nRjz-on_eM",
        "outputId": "a44020cb-a6a6-4297-a65d-05008f660cd9"
      },
      "execution_count": 26,
      "outputs": [
        {
          "output_type": "stream",
          "name": "stdout",
          "text": [
            "1\n",
            "2\n",
            "3\n",
            "4\n",
            "5\n",
            "6\n",
            "7\n",
            "8\n",
            "9\n",
            "10\n"
          ]
        }
      ]
    },
    {
      "cell_type": "code",
      "source": [
        "# digite números até que o usuário digite 0\n",
        "\n",
        "numero = int(input(\"digite um número: \"))\n",
        "while numero != 0:\n",
        "  numero = int(input(\"digite um número: \"))"
      ],
      "metadata": {
        "colab": {
          "base_uri": "https://localhost:8080/"
        },
        "id": "vSMOJWRcpqNu",
        "outputId": "1e67774d-b2df-4f9b-8c3a-78c67aeb3a2e"
      },
      "execution_count": 29,
      "outputs": [
        {
          "name": "stdout",
          "output_type": "stream",
          "text": [
            "digite um número: 6\n",
            "digite um número: 9\n",
            "digite um número: 5\n",
            "digite um número: 0\n"
          ]
        }
      ]
    },
    {
      "cell_type": "code",
      "source": [
        "# somar os números até que o usuário digite 0\n",
        "\n",
        "numero = int(input(\"digite um número: \"))\n",
        "soma = numero\n",
        "while numero != 0:\n",
        "  numero = int(input(\"digite um número: \"))\n",
        "  soma += numero\n",
        "\n",
        "print(\"total = \", soma)"
      ],
      "metadata": {
        "colab": {
          "base_uri": "https://localhost:8080/"
        },
        "id": "PdDlxgubxMBF",
        "outputId": "b99ca80e-f9dc-4a54-dbbb-8987a7f5fe81"
      },
      "execution_count": 30,
      "outputs": [
        {
          "output_type": "stream",
          "name": "stdout",
          "text": [
            "digite um número: 1\n",
            "digite um número: 2\n",
            "digite um número: 3\n",
            "digite um número: 0\n",
            "total =  6\n"
          ]
        }
      ]
    },
    {
      "cell_type": "code",
      "source": [
        "# criando um menu de opções\n",
        "opcao = 0\n",
        "while opcao != 4:\n",
        "  print(\"escolha uma opção:\")\n",
        "  print(\"digite 1 para opção 01\")\n",
        "  print(\"digite 2 para opção 02\")\n",
        "  print(\"digite 3 para opção 03\")\n",
        "  print(\"digite 4 para sair\")\n",
        "  opcao = int(input(\"Sua opção => \"))\n",
        "\n",
        "  if opcao == 1:\n",
        "    print(\"você escolheu a opção 01\")\n",
        "  if opcao == 2:\n",
        "    print(\"você escolheu a opção 02\")\n",
        "  if opcao == 3:\n",
        "    print(\"você escolheu a opção 03\")\n",
        "  if opcao == 4:\n",
        "    print(\"você escolheu a opção sair\")\n",
        "\n"
      ],
      "metadata": {
        "colab": {
          "base_uri": "https://localhost:8080/"
        },
        "id": "trASnE9AzUq-",
        "outputId": "4c80be89-10a5-4576-eae6-20536d5c2597"
      },
      "execution_count": 32,
      "outputs": [
        {
          "output_type": "stream",
          "name": "stdout",
          "text": [
            "escolha uma opção:\n",
            "digite 1 para opção 01\n",
            "digite 2 para opção 02\n",
            "digite 3 para opção 03\n",
            "digite 4 para sair\n",
            "Sua opção => 2\n",
            "você escolheu a opção 02\n",
            "escolha uma opção:\n",
            "digite 1 para opção 01\n",
            "digite 2 para opção 02\n",
            "digite 3 para opção 03\n",
            "digite 4 para sair\n",
            "Sua opção => 4\n",
            "você escolheu a opção sair\n"
          ]
        }
      ]
    }
  ]
}