{
  "nbformat": 4,
  "nbformat_minor": 0,
  "metadata": {
    "colab": {
      "provenance": [],
      "include_colab_link": true
    },
    "kernelspec": {
      "name": "python3",
      "display_name": "Python 3"
    },
    "language_info": {
      "name": "python"
    }
  },
  "cells": [
    {
      "cell_type": "markdown",
      "metadata": {
        "id": "view-in-github",
        "colab_type": "text"
      },
      "source": [
        "<a href=\"https://colab.research.google.com/github/gabrielysantos8/Aulas_PA/blob/main/C%C3%B3pia_de_Exercicio_LISTAS_07_08_24.ipynb\" target=\"_parent\"><img src=\"https://colab.research.google.com/assets/colab-badge.svg\" alt=\"Open In Colab\"/></a>"
      ]
    },
    {
      "cell_type": "markdown",
      "source": [
        "# **Exercícios utilizando Listas Python**"
      ],
      "metadata": {
        "id": "Fv1r44TLwVKM"
      }
    },
    {
      "cell_type": "markdown",
      "source": [
        "## 1. Soma dos Elementos da Lista\n",
        "Dada uma lista de números, calcule a soma de todos os elementos."
      ],
      "metadata": {
        "id": "b9nEDJF0wjrc"
      }
    },
    {
      "cell_type": "code",
      "execution_count": null,
      "metadata": {
        "id": "woHYcqQCwA-u",
        "colab": {
          "base_uri": "https://localhost:8080/"
        },
        "outputId": "be35c6a7-ccd5-43f3-f010-aeb0eb0fc09c"
      },
      "outputs": [
        {
          "output_type": "execute_result",
          "data": {
            "text/plain": [
              "15"
            ]
          },
          "metadata": {},
          "execution_count": 3
        }
      ],
      "source": [
        "# Seu código aqui...\n",
        "lista = [1, 2, 3, 4, 5]\n",
        "\n",
        "soma = lista[0] + lista[1] + lista[2] + lista[3] + lista[4]\n",
        "soma"
      ]
    },
    {
      "cell_type": "markdown",
      "source": [
        "## 2. Produto dos elementos da lista\n",
        "Dada uma lista de números, calcule o produto de todos os elementos."
      ],
      "metadata": {
        "id": "jRKcmWKiw0z8"
      }
    },
    {
      "cell_type": "code",
      "source": [
        "# Seu código aqui...\n",
        "lista2 = [1, 2, 3, 4, 5]\n",
        "\n",
        "produto =lista2[0] * lista2[1] * lista2[2] * lista2[3] * lista2[4]\n",
        "produto"
      ],
      "metadata": {
        "id": "fLbEGjowwaZe",
        "colab": {
          "base_uri": "https://localhost:8080/"
        },
        "outputId": "7a7c6a5f-6171-4bc6-c22f-3b1bd70ec0cb"
      },
      "execution_count": null,
      "outputs": [
        {
          "output_type": "execute_result",
          "data": {
            "text/plain": [
              "120"
            ]
          },
          "metadata": {},
          "execution_count": 4
        }
      ]
    },
    {
      "cell_type": "markdown",
      "source": [
        "## 3. Encontre o menor elemento\n",
        "Dada uma lista de números, encontre o menor elemento."
      ],
      "metadata": {
        "id": "-Er6OsAyxFQj"
      }
    },
    {
      "cell_type": "code",
      "source": [
        "# Seu código aqui...\n",
        "lista3 = [1, 2, 3, 4, 5]\n",
        "\n",
        "min(lista3)"
      ],
      "metadata": {
        "id": "KVoiJ_u0xKvc",
        "colab": {
          "base_uri": "https://localhost:8080/"
        },
        "outputId": "4e2547dc-aaf5-4b7d-e067-01a022e60add"
      },
      "execution_count": null,
      "outputs": [
        {
          "output_type": "execute_result",
          "data": {
            "text/plain": [
              "1"
            ]
          },
          "metadata": {},
          "execution_count": 5
        }
      ]
    },
    {
      "cell_type": "markdown",
      "source": [
        "## 4. Encontre o maior elemento\n",
        "Dada uma lista de números, encontre o maior elemento."
      ],
      "metadata": {
        "id": "WXYaMI7FxQXk"
      }
    },
    {
      "cell_type": "code",
      "source": [
        "# Seu código aqui...\n",
        "lista4 = [1, 2, 3, 4, 5]\n",
        "\n",
        "max(lista4)"
      ],
      "metadata": {
        "id": "DoNhSLyuxb19",
        "colab": {
          "base_uri": "https://localhost:8080/"
        },
        "outputId": "0f0f7ef7-33d9-4585-98f9-2681256e92d0"
      },
      "execution_count": null,
      "outputs": [
        {
          "output_type": "execute_result",
          "data": {
            "text/plain": [
              "5"
            ]
          },
          "metadata": {},
          "execution_count": 6
        }
      ]
    },
    {
      "cell_type": "markdown",
      "source": [
        "## 5. Contar Ocorrências de um Elemento\n",
        "Dada uma lista de números e um número alvo, conte quantas vezes o alvo aparece na lista."
      ],
      "metadata": {
        "id": "BkHVHCiPxgTs"
      }
    },
    {
      "cell_type": "code",
      "source": [
        "# Seu código aqui...\n",
        "lista5 = [1, 2, 3, 4, 3, 2, 1]\n",
        "\n",
        "lista5.count(3)"
      ],
      "metadata": {
        "id": "Hreq56gixmYC",
        "colab": {
          "base_uri": "https://localhost:8080/"
        },
        "outputId": "34465f28-73c8-48de-a438-10e1f654ca19"
      },
      "execution_count": null,
      "outputs": [
        {
          "output_type": "execute_result",
          "data": {
            "text/plain": [
              "2"
            ]
          },
          "metadata": {},
          "execution_count": 7
        }
      ]
    },
    {
      "cell_type": "markdown",
      "source": [
        "## 6. Remover duplicatas\n",
        "Dada uma lista de números, crie uma nova lista sem elementos duplicados."
      ],
      "metadata": {
        "id": "zSsy12F-xrVT"
      }
    },
    {
      "cell_type": "code",
      "source": [
        "# Seu código aqui...\n",
        "lista6 = [1, 2, 2, 3, 4, 4, 5]\n",
        "\n",
        "lista6.remove(2)\n",
        "lista6.remove(4)\n",
        "lista6"
      ],
      "metadata": {
        "id": "9N35r8abxydM",
        "colab": {
          "base_uri": "https://localhost:8080/"
        },
        "outputId": "12f107f2-d2b3-4dbf-dd49-eb25d0a149b3"
      },
      "execution_count": null,
      "outputs": [
        {
          "output_type": "execute_result",
          "data": {
            "text/plain": [
              "[1, 2, 3, 4, 5]"
            ]
          },
          "metadata": {},
          "execution_count": 20
        }
      ]
    },
    {
      "cell_type": "markdown",
      "source": [
        "## 7. Inverter uma lista\n",
        "Dada uma lista de números, inverta a ordem dos elementos."
      ],
      "metadata": {
        "id": "Ev1YAUF9x3o8"
      }
    },
    {
      "cell_type": "code",
      "source": [
        "# Seu código aqui...\n",
        "lista7 = [1, 2, 3, 4, 5]\n",
        "\n",
        "lista7.reverse()\n",
        "print(lista7)"
      ],
      "metadata": {
        "id": "X8YLy9uqx9kz",
        "colab": {
          "base_uri": "https://localhost:8080/"
        },
        "outputId": "4875902b-1460-4061-f89b-56a59ffe63d1"
      },
      "execution_count": null,
      "outputs": [
        {
          "output_type": "stream",
          "name": "stdout",
          "text": [
            "[5, 4, 3, 2, 1]\n"
          ]
        }
      ]
    },
    {
      "cell_type": "markdown",
      "source": [
        "## 8. Intercalar Duas Listas\n",
        "Dadas duas listas de números, crie uma nova lista intercalando os elementos das duas listas."
      ],
      "metadata": {
        "id": "1k2bPDTPyB-L"
      }
    },
    {
      "cell_type": "code",
      "source": [
        "# Seu código aqui...\n",
        "lista81 = [1, 3, 5]\n",
        "lista82 = [2, 4, 6]\n",
        "\n",
        "e1 = lista81[0]\n",
        "e2 = lista82[0]\n",
        "e3 = lista81[1]\n",
        "e4 = lista82[1]\n",
        "e5 = lista81[2]\n",
        "e6 = lista82[2]\n",
        "\n",
        "novalista = [e1, e2, e3, e4, e5, e6]\n",
        "novalista"
      ],
      "metadata": {
        "id": "TXajIrGxyH3j",
        "colab": {
          "base_uri": "https://localhost:8080/"
        },
        "outputId": "e945ed44-fac2-41c0-a6c0-6142e0ecfacc"
      },
      "execution_count": null,
      "outputs": [
        {
          "output_type": "execute_result",
          "data": {
            "text/plain": [
              "[1, 2, 3, 4, 5, 6]"
            ]
          },
          "metadata": {},
          "execution_count": 11
        }
      ]
    },
    {
      "cell_type": "markdown",
      "source": [
        "## 9. Somar Elementos Correspondentes de Duas Listas\n",
        "Dadas duas listas de números de mesmo tamanho, crie uma nova lista com a soma dos elementos correspondentes."
      ],
      "metadata": {
        "id": "ewiPtV9MyP1q"
      }
    },
    {
      "cell_type": "code",
      "source": [
        "# Seu código aqui...\n",
        "lista91 = [1, 2, 3]\n",
        "lista92 = [4, 5, 6]\n",
        "\n",
        "listanova = [lista91[0] + lista91[1] + lista91[2] + lista92[0] + lista92[1] + lista92[2]]\n",
        "listanova"
      ],
      "metadata": {
        "id": "0-4qe89uyVWT",
        "colab": {
          "base_uri": "https://localhost:8080/"
        },
        "outputId": "163f1eb7-bb88-46e2-9f85-0a877e4a49d8"
      },
      "execution_count": null,
      "outputs": [
        {
          "output_type": "execute_result",
          "data": {
            "text/plain": [
              "[21]"
            ]
          },
          "metadata": {},
          "execution_count": 14
        }
      ]
    },
    {
      "cell_type": "markdown",
      "source": [
        "## 10. Mover Zeros para o Fim\n",
        "Dada uma lista de números, mova todos os zeros para o final da lista."
      ],
      "metadata": {
        "id": "QX-QkQg5ybQa"
      }
    },
    {
      "cell_type": "code",
      "source": [
        "# Seu código aqui...\n",
        "lista10 = [0, 1, 0, 3, 12]\n",
        "\n",
        "lista10[0] = \"1\"\n",
        "lista10[1] = \"3\"\n",
        "lista10[2] = \"12\"\n",
        "lista10[3] = \"0\"\n",
        "lista10[4] = \"0\"\n",
        "\n",
        "lista10"
      ],
      "metadata": {
        "id": "i8jHZT30ygD6",
        "colab": {
          "base_uri": "https://localhost:8080/"
        },
        "outputId": "f18b3c7b-9cfe-4d78-d63e-037caad93b9a"
      },
      "execution_count": null,
      "outputs": [
        {
          "output_type": "execute_result",
          "data": {
            "text/plain": [
              "['1', '3', '12', '0', '0']"
            ]
          },
          "metadata": {},
          "execution_count": 24
        }
      ]
    }
  ]
}